{
 "cells": [
  {
   "cell_type": "code",
   "execution_count": 1,
   "metadata": {},
   "outputs": [],
   "source": [
    "# Dependencies\n",
    "import requests\n",
    "import pandas as pd"
   ]
  },
  {
   "cell_type": "code",
   "execution_count": 2,
   "metadata": {},
   "outputs": [],
   "source": [
    "df = pd.read_fwf('urls_unsup.txt',header=None)"
   ]
  },
  {
   "cell_type": "code",
   "execution_count": 3,
   "metadata": {},
   "outputs": [],
   "source": [
    "df = df.rename(columns={0: \"url\"})\n",
    "df = df.drop_duplicates()"
   ]
  },
  {
   "cell_type": "code",
   "execution_count": 4,
   "metadata": {},
   "outputs": [],
   "source": [
    "df['movie_id'] = df['url'].str.replace('/usercomments','').str.replace('http://www.imdb.com/title/','')"
   ]
  },
  {
   "cell_type": "code",
   "execution_count": 5,
   "metadata": {},
   "outputs": [
    {
     "data": {
      "text/html": [
       "<div>\n",
       "<style scoped>\n",
       "    .dataframe tbody tr th:only-of-type {\n",
       "        vertical-align: middle;\n",
       "    }\n",
       "\n",
       "    .dataframe tbody tr th {\n",
       "        vertical-align: top;\n",
       "    }\n",
       "\n",
       "    .dataframe thead th {\n",
       "        text-align: right;\n",
       "    }\n",
       "</style>\n",
       "<table border=\"1\" class=\"dataframe\">\n",
       "  <thead>\n",
       "    <tr style=\"text-align: right;\">\n",
       "      <th></th>\n",
       "      <th>url</th>\n",
       "      <th>movie_id</th>\n",
       "    </tr>\n",
       "  </thead>\n",
       "  <tbody>\n",
       "    <tr>\n",
       "      <th>0</th>\n",
       "      <td>http://www.imdb.com/title/tt0018515/usercomments</td>\n",
       "      <td>tt0018515</td>\n",
       "    </tr>\n",
       "    <tr>\n",
       "      <th>11</th>\n",
       "      <td>http://www.imdb.com/title/tt0118866/usercomments</td>\n",
       "      <td>tt0118866</td>\n",
       "    </tr>\n",
       "    <tr>\n",
       "      <th>41</th>\n",
       "      <td>http://www.imdb.com/title/tt0436149/usercomments</td>\n",
       "      <td>tt0436149</td>\n",
       "    </tr>\n",
       "    <tr>\n",
       "      <th>45</th>\n",
       "      <td>http://www.imdb.com/title/tt0050652/usercomments</td>\n",
       "      <td>tt0050652</td>\n",
       "    </tr>\n",
       "    <tr>\n",
       "      <th>51</th>\n",
       "      <td>http://www.imdb.com/title/tt0203895/usercomments</td>\n",
       "      <td>tt0203895</td>\n",
       "    </tr>\n",
       "  </tbody>\n",
       "</table>\n",
       "</div>"
      ],
      "text/plain": [
       "                                                 url   movie_id\n",
       "0   http://www.imdb.com/title/tt0018515/usercomments  tt0018515\n",
       "11  http://www.imdb.com/title/tt0118866/usercomments  tt0118866\n",
       "41  http://www.imdb.com/title/tt0436149/usercomments  tt0436149\n",
       "45  http://www.imdb.com/title/tt0050652/usercomments  tt0050652\n",
       "51  http://www.imdb.com/title/tt0203895/usercomments  tt0203895"
      ]
     },
     "execution_count": 5,
     "metadata": {},
     "output_type": "execute_result"
    }
   ],
   "source": [
    "df.head()"
   ]
  },
  {
   "cell_type": "code",
   "execution_count": 9,
   "metadata": {},
   "outputs": [],
   "source": [
    "# Online Movie Database (OMDB) API URL including API Key and full plot\n",
    "api_url = \"http://www.omdbapi.com/?apikey=baee4093&plot=full\"\n",
    "\n",
    "movie_data = []\n",
    "\n",
    "# Using a for-loop...\n",
    "for movie_id in df['movie_id']:\n",
    "    # Use the movie_id to pull data from the API\n",
    "    try:\n",
    "        movie = requests.get(api_url + '&i=' + movie_id).json()\n",
    "        if movie['Response'] == \"True\":\n",
    "            movie_data.append(movie)\n",
    "    except JSONDecodeError:\n",
    "        print(movie_id)"
   ]
  },
  {
   "cell_type": "code",
   "execution_count": 10,
   "metadata": {},
   "outputs": [],
   "source": [
    "omdb_df = pd.DataFrame(movie_data)"
   ]
  },
  {
   "cell_type": "code",
   "execution_count": 39,
   "metadata": {},
   "outputs": [],
   "source": [
    "movie_only = omdb_df.copy()\n",
    "movie_only = movie_only[movie_only['Type'] == 'movie']\n",
    "movie_only = movie_only.drop_duplicates(subset =\"imdbID\") \n",
    "movie_only = movie_only[movie_only['imdbRating'] != 'N/A']"
   ]
  },
  {
   "cell_type": "code",
   "execution_count": 40,
   "metadata": {},
   "outputs": [
    {
     "name": "stdout",
     "output_type": "stream",
     "text": [
      "movie    6018\n",
      "Name: Type, dtype: int64\n",
      "6018\n"
     ]
    }
   ],
   "source": [
    "print(movie_only['Type'].value_counts())\n",
    "print(movie_only['imdbID'].nunique())"
   ]
  },
  {
   "cell_type": "code",
   "execution_count": 43,
   "metadata": {},
   "outputs": [
    {
     "data": {
      "text/plain": [
       "Actors          object\n",
       "Awards          object\n",
       "BoxOffice       object\n",
       "Country         object\n",
       "DVD             object\n",
       "Director        object\n",
       "Episode         object\n",
       "Genre           object\n",
       "Language        object\n",
       "Metascore       object\n",
       "Plot            object\n",
       "Poster          object\n",
       "Production      object\n",
       "Rated           object\n",
       "Ratings         object\n",
       "Released        object\n",
       "Response        object\n",
       "Runtime         object\n",
       "Season          object\n",
       "Title           object\n",
       "Type            object\n",
       "Website         object\n",
       "Writer          object\n",
       "Year            object\n",
       "imdbID          object\n",
       "imdbRating      object\n",
       "imdbVotes       object\n",
       "seriesID        object\n",
       "totalSeasons    object\n",
       "dtype: object"
      ]
     },
     "execution_count": 43,
     "metadata": {},
     "output_type": "execute_result"
    }
   ],
   "source": [
    "movie_only.dtypes"
   ]
  }
 ],
 "metadata": {
  "kernelspec": {
   "display_name": "Python 3",
   "language": "python",
   "name": "python3"
  },
  "language_info": {
   "codemirror_mode": {
    "name": "ipython",
    "version": 3
   },
   "file_extension": ".py",
   "mimetype": "text/x-python",
   "name": "python",
   "nbconvert_exporter": "python",
   "pygments_lexer": "ipython3",
   "version": "3.7.3"
  }
 },
 "nbformat": 4,
 "nbformat_minor": 2
}
