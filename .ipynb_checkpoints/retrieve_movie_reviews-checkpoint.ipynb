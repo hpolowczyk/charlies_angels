{
 "cells": [
  {
   "cell_type": "code",
   "execution_count": 1,
   "metadata": {
    "colab": {},
    "colab_type": "code",
    "id": "pMRF5QPj1bH9"
   },
   "outputs": [],
   "source": [
    "#Load dependenices\n",
    "import pandas as pd\n",
    "import requests\n",
    "import pymongo\n",
    "from bs4 import BeautifulSoup"
   ]
  },
  {
   "cell_type": "code",
   "execution_count": 2,
   "metadata": {
    "colab": {},
    "colab_type": "code",
    "id": "0jvomAOS1bIH"
   },
   "outputs": [],
   "source": [
    "#Import file\n",
    "df = pd.read_csv('https://charlies-angels.s3.us-east-2.amazonaws.com/movie_urls.txt', names = [\"url\"])"
   ]
  },
  {
   "cell_type": "code",
   "execution_count": 3,
   "metadata": {
    "colab": {},
    "colab_type": "code",
    "id": "U1EJPVyl1bIP"
   },
   "outputs": [],
   "source": [
    "df.nunique()\n",
    "\n",
    "#Remove duplicates\n",
    "df = df.drop_duplicates()\n",
    "df.count()\n",
    "df.reset_index(inplace = True, drop = True)\n",
    "\n",
    "\n",
    "#Add a column for Reviews\n",
    "df['reviews'] = ''\n",
    "\n",
    "#Add a column for IMDB Movie ID\n",
    "df['movie_id'] = df['url'].str.replace('/usercomments','').str.replace('http://www.imdb.com/title/','')"
   ]
  },
  {
   "cell_type": "code",
   "execution_count": 4,
   "metadata": {
    "colab": {
     "base_uri": "https://localhost:8080/",
     "height": 206
    },
    "colab_type": "code",
    "id": "wZzijeah1bIV",
    "outputId": "df02b546-0800-4c8d-be21-e17b6b01df5a"
   },
   "outputs": [
    {
     "data": {
      "text/html": [
       "<div>\n",
       "<style scoped>\n",
       "    .dataframe tbody tr th:only-of-type {\n",
       "        vertical-align: middle;\n",
       "    }\n",
       "\n",
       "    .dataframe tbody tr th {\n",
       "        vertical-align: top;\n",
       "    }\n",
       "\n",
       "    .dataframe thead th {\n",
       "        text-align: right;\n",
       "    }\n",
       "</style>\n",
       "<table border=\"1\" class=\"dataframe\">\n",
       "  <thead>\n",
       "    <tr style=\"text-align: right;\">\n",
       "      <th></th>\n",
       "      <th>url</th>\n",
       "      <th>reviews</th>\n",
       "      <th>movie_id</th>\n",
       "    </tr>\n",
       "  </thead>\n",
       "  <tbody>\n",
       "    <tr>\n",
       "      <th>0</th>\n",
       "      <td>http://www.imdb.com/title/tt0018515/usercomments</td>\n",
       "      <td></td>\n",
       "      <td>tt0018515</td>\n",
       "    </tr>\n",
       "    <tr>\n",
       "      <th>1</th>\n",
       "      <td>http://www.imdb.com/title/tt0118866/usercomments</td>\n",
       "      <td></td>\n",
       "      <td>tt0118866</td>\n",
       "    </tr>\n",
       "    <tr>\n",
       "      <th>2</th>\n",
       "      <td>http://www.imdb.com/title/tt0436149/usercomments</td>\n",
       "      <td></td>\n",
       "      <td>tt0436149</td>\n",
       "    </tr>\n",
       "    <tr>\n",
       "      <th>3</th>\n",
       "      <td>http://www.imdb.com/title/tt0050652/usercomments</td>\n",
       "      <td></td>\n",
       "      <td>tt0050652</td>\n",
       "    </tr>\n",
       "    <tr>\n",
       "      <th>4</th>\n",
       "      <td>http://www.imdb.com/title/tt0203895/usercomments</td>\n",
       "      <td></td>\n",
       "      <td>tt0203895</td>\n",
       "    </tr>\n",
       "  </tbody>\n",
       "</table>\n",
       "</div>"
      ],
      "text/plain": [
       "                                                url reviews   movie_id\n",
       "0  http://www.imdb.com/title/tt0018515/usercomments          tt0018515\n",
       "1  http://www.imdb.com/title/tt0118866/usercomments          tt0118866\n",
       "2  http://www.imdb.com/title/tt0436149/usercomments          tt0436149\n",
       "3  http://www.imdb.com/title/tt0050652/usercomments          tt0050652\n",
       "4  http://www.imdb.com/title/tt0203895/usercomments          tt0203895"
      ]
     },
     "execution_count": 4,
     "metadata": {},
     "output_type": "execute_result"
    }
   ],
   "source": [
    "df.head(5)"
   ]
  },
  {
   "cell_type": "code",
   "execution_count": 5,
   "metadata": {
    "colab": {},
    "colab_type": "code",
    "id": "cGJmvHko1bId"
   },
   "outputs": [],
   "source": [
    "#Update the URLs to what we want\n",
    "df['url'] = df['url'].str.replace('usercomments','reviews')"
   ]
  },
  {
   "cell_type": "code",
   "execution_count": 6,
   "metadata": {
    "colab": {
     "base_uri": "https://localhost:8080/",
     "height": 206
    },
    "colab_type": "code",
    "id": "uufOvrO21bIi",
    "outputId": "c65313a1-438e-4bef-ead8-87f1d53e6561"
   },
   "outputs": [
    {
     "data": {
      "text/html": [
       "<div>\n",
       "<style scoped>\n",
       "    .dataframe tbody tr th:only-of-type {\n",
       "        vertical-align: middle;\n",
       "    }\n",
       "\n",
       "    .dataframe tbody tr th {\n",
       "        vertical-align: top;\n",
       "    }\n",
       "\n",
       "    .dataframe thead th {\n",
       "        text-align: right;\n",
       "    }\n",
       "</style>\n",
       "<table border=\"1\" class=\"dataframe\">\n",
       "  <thead>\n",
       "    <tr style=\"text-align: right;\">\n",
       "      <th></th>\n",
       "      <th>url</th>\n",
       "      <th>reviews</th>\n",
       "      <th>movie_id</th>\n",
       "    </tr>\n",
       "  </thead>\n",
       "  <tbody>\n",
       "    <tr>\n",
       "      <th>0</th>\n",
       "      <td>http://www.imdb.com/title/tt0018515/reviews</td>\n",
       "      <td></td>\n",
       "      <td>tt0018515</td>\n",
       "    </tr>\n",
       "    <tr>\n",
       "      <th>1</th>\n",
       "      <td>http://www.imdb.com/title/tt0118866/reviews</td>\n",
       "      <td></td>\n",
       "      <td>tt0118866</td>\n",
       "    </tr>\n",
       "    <tr>\n",
       "      <th>2</th>\n",
       "      <td>http://www.imdb.com/title/tt0436149/reviews</td>\n",
       "      <td></td>\n",
       "      <td>tt0436149</td>\n",
       "    </tr>\n",
       "    <tr>\n",
       "      <th>3</th>\n",
       "      <td>http://www.imdb.com/title/tt0050652/reviews</td>\n",
       "      <td></td>\n",
       "      <td>tt0050652</td>\n",
       "    </tr>\n",
       "    <tr>\n",
       "      <th>4</th>\n",
       "      <td>http://www.imdb.com/title/tt0203895/reviews</td>\n",
       "      <td></td>\n",
       "      <td>tt0203895</td>\n",
       "    </tr>\n",
       "  </tbody>\n",
       "</table>\n",
       "</div>"
      ],
      "text/plain": [
       "                                           url reviews   movie_id\n",
       "0  http://www.imdb.com/title/tt0018515/reviews          tt0018515\n",
       "1  http://www.imdb.com/title/tt0118866/reviews          tt0118866\n",
       "2  http://www.imdb.com/title/tt0436149/reviews          tt0436149\n",
       "3  http://www.imdb.com/title/tt0050652/reviews          tt0050652\n",
       "4  http://www.imdb.com/title/tt0203895/reviews          tt0203895"
      ]
     },
     "execution_count": 6,
     "metadata": {},
     "output_type": "execute_result"
    }
   ],
   "source": [
    "df.head()"
   ]
  },
  {
   "cell_type": "code",
   "execution_count": null,
   "metadata": {
    "colab": {
     "base_uri": "https://localhost:8080/",
     "height": 1000
    },
    "colab_type": "code",
    "id": "b6qpbZpxBMEo",
    "outputId": "876151a0-ee44-4975-ca6f-3b9fb327ac7c"
   },
   "outputs": [],
   "source": [
    "# Online Movie Database (OMDB) API URL including API Key and full plot\n",
    "api_url = \"http://www.omdbapi.com/?apikey=baee4093&plot=full\"\n",
    "\n",
    "movie_data = []\n",
    "\n",
    "# Using a for-loop...\n",
    "for movie_id in df['movie_id']:\n",
    "    # Use the movie_id to pull data from the API\n",
    "    try:\n",
    "        movie = requests.get(api_url + '&i=' + movie_id).json()\n",
    "        if movie['Response'] == \"True\":\n",
    "            movie_data.append(movie)\n",
    "    except JSONDecodeError:\n",
    "        continue"
   ]
  },
  {
   "cell_type": "code",
   "execution_count": 0,
   "metadata": {
    "colab": {},
    "colab_type": "code",
    "id": "fJDT_m1iBPcz"
   },
   "outputs": [],
   "source": [
    "omdb_df = pd.DataFrame(movie_data)"
   ]
  },
  {
   "cell_type": "code",
   "execution_count": 0,
   "metadata": {
    "colab": {},
    "colab_type": "code",
    "id": "Xm_qCFeMBUhB"
   },
   "outputs": [],
   "source": [
    "movie_only = omdb_df.copy()\n",
    "movie_only = movie_only[movie_only['Type'] == 'movie']\n",
    "movie_only = movie_only.drop_duplicates(subset =\"imdbID\") \n",
    "movie_only = movie_only[movie_only['imdbRating'] != 'N/A']"
   ]
  },
  {
   "cell_type": "code",
   "execution_count": 10,
   "metadata": {
    "colab": {
     "base_uri": "https://localhost:8080/",
     "height": 73
    },
    "colab_type": "code",
    "id": "IKQ4p7msBUkQ",
    "outputId": "5fa86a45-7733-4f45-dfd8-24a68a9482e5"
   },
   "outputs": [
    {
     "name": "stdout",
     "output_type": "stream",
     "text": [
      "movie    2665\n",
      "Name: Type, dtype: int64\n",
      "2665\n"
     ]
    }
   ],
   "source": [
    "print(movie_only['Type'].value_counts())\n",
    "print(movie_only['imdbID'].nunique())"
   ]
  },
  {
   "cell_type": "code",
   "execution_count": 0,
   "metadata": {
    "colab": {},
    "colab_type": "code",
    "id": "TQ4Ens1TBUou"
   },
   "outputs": [],
   "source": [
    "movie_only['imdbRating'] = pd.to_numeric(movie_only['imdbRating'])"
   ]
  },
  {
   "cell_type": "code",
   "execution_count": 12,
   "metadata": {
    "colab": {
     "base_uri": "https://localhost:8080/",
     "height": 340
    },
    "colab_type": "code",
    "id": "yiHAbR6pBPh-",
    "outputId": "739e6708-febc-40e8-e64e-fc214495803f"
   },
   "outputs": [
    {
     "data": {
      "text/html": [
       "<div>\n",
       "<style scoped>\n",
       "    .dataframe tbody tr th:only-of-type {\n",
       "        vertical-align: middle;\n",
       "    }\n",
       "\n",
       "    .dataframe tbody tr th {\n",
       "        vertical-align: top;\n",
       "    }\n",
       "\n",
       "    .dataframe thead th {\n",
       "        text-align: right;\n",
       "    }\n",
       "</style>\n",
       "<table border=\"1\" class=\"dataframe\">\n",
       "  <thead>\n",
       "    <tr style=\"text-align: right;\">\n",
       "      <th></th>\n",
       "      <th>Title</th>\n",
       "      <th>Year</th>\n",
       "      <th>Rated</th>\n",
       "      <th>Released</th>\n",
       "      <th>Runtime</th>\n",
       "      <th>Genre</th>\n",
       "      <th>Director</th>\n",
       "      <th>Writer</th>\n",
       "      <th>Actors</th>\n",
       "      <th>Plot</th>\n",
       "      <th>Language</th>\n",
       "      <th>Country</th>\n",
       "      <th>Awards</th>\n",
       "      <th>Poster</th>\n",
       "      <th>Ratings</th>\n",
       "      <th>Metascore</th>\n",
       "      <th>imdbRating</th>\n",
       "      <th>imdbVotes</th>\n",
       "      <th>imdbID</th>\n",
       "      <th>Type</th>\n",
       "      <th>DVD</th>\n",
       "      <th>BoxOffice</th>\n",
       "      <th>Production</th>\n",
       "      <th>Website</th>\n",
       "      <th>Response</th>\n",
       "      <th>totalSeasons</th>\n",
       "      <th>Season</th>\n",
       "      <th>Episode</th>\n",
       "      <th>seriesID</th>\n",
       "    </tr>\n",
       "  </thead>\n",
       "  <tbody>\n",
       "    <tr>\n",
       "      <th>0</th>\n",
       "      <td>Two Arabian Knights</td>\n",
       "      <td>1927</td>\n",
       "      <td>TV-G</td>\n",
       "      <td>23 Sep 1927</td>\n",
       "      <td>92 min</td>\n",
       "      <td>Comedy, Romance, Adventure</td>\n",
       "      <td>Lewis Milestone</td>\n",
       "      <td>Wallace Smith (screen version), Cyril Gardner ...</td>\n",
       "      <td>William Boyd, Mary Astor, Louis Wolheim, Ian K...</td>\n",
       "      <td>Americans Sgt. Peter O'Gaffney and one of his ...</td>\n",
       "      <td>English</td>\n",
       "      <td>USA</td>\n",
       "      <td>N/A</td>\n",
       "      <td>https://m.media-amazon.com/images/M/MV5BNTJiNG...</td>\n",
       "      <td>[{'Source': 'Internet Movie Database', 'Value'...</td>\n",
       "      <td>N/A</td>\n",
       "      <td>6.9</td>\n",
       "      <td>587</td>\n",
       "      <td>tt0018515</td>\n",
       "      <td>movie</td>\n",
       "      <td>N/A</td>\n",
       "      <td>N/A</td>\n",
       "      <td>Caddo</td>\n",
       "      <td>N/A</td>\n",
       "      <td>True</td>\n",
       "      <td>NaN</td>\n",
       "      <td>NaN</td>\n",
       "      <td>NaN</td>\n",
       "      <td>NaN</td>\n",
       "    </tr>\n",
       "    <tr>\n",
       "      <th>1</th>\n",
       "      <td>Clockwatchers</td>\n",
       "      <td>1997</td>\n",
       "      <td>PG-13</td>\n",
       "      <td>15 May 1998</td>\n",
       "      <td>96 min</td>\n",
       "      <td>Comedy, Drama</td>\n",
       "      <td>Jill Sprecher</td>\n",
       "      <td>Jill Sprecher, Karen Sprecher</td>\n",
       "      <td>Toni Collette, Parker Posey, Lisa Kudrow, Alan...</td>\n",
       "      <td>Iris can best be described as a wallflower. Sh...</td>\n",
       "      <td>English</td>\n",
       "      <td>UK, USA</td>\n",
       "      <td>2 wins &amp; 1 nomination.</td>\n",
       "      <td>https://m.media-amazon.com/images/M/MV5BYzZlND...</td>\n",
       "      <td>[{'Source': 'Internet Movie Database', 'Value'...</td>\n",
       "      <td>N/A</td>\n",
       "      <td>6.5</td>\n",
       "      <td>4,377</td>\n",
       "      <td>tt0118866</td>\n",
       "      <td>movie</td>\n",
       "      <td>26 Sep 2006</td>\n",
       "      <td>N/A</td>\n",
       "      <td>BMG</td>\n",
       "      <td>N/A</td>\n",
       "      <td>True</td>\n",
       "      <td>NaN</td>\n",
       "      <td>NaN</td>\n",
       "      <td>NaN</td>\n",
       "      <td>NaN</td>\n",
       "    </tr>\n",
       "  </tbody>\n",
       "</table>\n",
       "</div>"
      ],
      "text/plain": [
       "                 Title  Year  Rated  ... Season Episode seriesID\n",
       "0  Two Arabian Knights  1927   TV-G  ...    NaN     NaN      NaN\n",
       "1        Clockwatchers  1997  PG-13  ...    NaN     NaN      NaN\n",
       "\n",
       "[2 rows x 29 columns]"
      ]
     },
     "execution_count": 12,
     "metadata": {
      "tags": []
     },
     "output_type": "execute_result"
    }
   ],
   "source": [
    "movie_only.head(2)"
   ]
  },
  {
   "cell_type": "code",
   "execution_count": 13,
   "metadata": {
    "colab": {
     "base_uri": "https://localhost:8080/",
     "height": 206
    },
    "colab_type": "code",
    "id": "DYZkjMETKLJO",
    "outputId": "4d31fd94-f56a-499b-ae7a-3f1f2689530d"
   },
   "outputs": [
    {
     "data": {
      "text/html": [
       "<div>\n",
       "<style scoped>\n",
       "    .dataframe tbody tr th:only-of-type {\n",
       "        vertical-align: middle;\n",
       "    }\n",
       "\n",
       "    .dataframe tbody tr th {\n",
       "        vertical-align: top;\n",
       "    }\n",
       "\n",
       "    .dataframe thead th {\n",
       "        text-align: right;\n",
       "    }\n",
       "</style>\n",
       "<table border=\"1\" class=\"dataframe\">\n",
       "  <thead>\n",
       "    <tr style=\"text-align: right;\">\n",
       "      <th></th>\n",
       "      <th>url</th>\n",
       "      <th>reviews</th>\n",
       "      <th>movie_id</th>\n",
       "    </tr>\n",
       "  </thead>\n",
       "  <tbody>\n",
       "    <tr>\n",
       "      <th>0</th>\n",
       "      <td>http://www.imdb.com/title/tt0018515/reviews</td>\n",
       "      <td></td>\n",
       "      <td>tt0018515</td>\n",
       "    </tr>\n",
       "    <tr>\n",
       "      <th>1</th>\n",
       "      <td>http://www.imdb.com/title/tt0118866/reviews</td>\n",
       "      <td></td>\n",
       "      <td>tt0118866</td>\n",
       "    </tr>\n",
       "    <tr>\n",
       "      <th>2</th>\n",
       "      <td>http://www.imdb.com/title/tt0436149/reviews</td>\n",
       "      <td></td>\n",
       "      <td>tt0436149</td>\n",
       "    </tr>\n",
       "    <tr>\n",
       "      <th>3</th>\n",
       "      <td>http://www.imdb.com/title/tt0050652/reviews</td>\n",
       "      <td></td>\n",
       "      <td>tt0050652</td>\n",
       "    </tr>\n",
       "    <tr>\n",
       "      <th>4</th>\n",
       "      <td>http://www.imdb.com/title/tt0203895/reviews</td>\n",
       "      <td></td>\n",
       "      <td>tt0203895</td>\n",
       "    </tr>\n",
       "  </tbody>\n",
       "</table>\n",
       "</div>"
      ],
      "text/plain": [
       "                                           url reviews   movie_id\n",
       "0  http://www.imdb.com/title/tt0018515/reviews          tt0018515\n",
       "1  http://www.imdb.com/title/tt0118866/reviews          tt0118866\n",
       "2  http://www.imdb.com/title/tt0436149/reviews          tt0436149\n",
       "3  http://www.imdb.com/title/tt0050652/reviews          tt0050652\n",
       "4  http://www.imdb.com/title/tt0203895/reviews          tt0203895"
      ]
     },
     "execution_count": 13,
     "metadata": {
      "tags": []
     },
     "output_type": "execute_result"
    }
   ],
   "source": [
    "df.head()"
   ]
  },
  {
   "cell_type": "code",
   "execution_count": 0,
   "metadata": {
    "colab": {},
    "colab_type": "code",
    "id": "4NBz4-Q5FhZq"
   },
   "outputs": [],
   "source": [
    "df = pd.merge(df, movie_only, left_on='movie_id', right_on='imdbID', how='inner')\n",
    "\n",
    "#Rename imdbRating to label, sinve Naive Bayes requires it\n",
    "df.rename(columns={'imdbRating' : 'label'}, inplace=True)"
   ]
  },
  {
   "cell_type": "code",
   "execution_count": 15,
   "metadata": {
    "colab": {
     "base_uri": "https://localhost:8080/",
     "height": 747
    },
    "colab_type": "code",
    "id": "Iws5kVJ0KIRB",
    "outputId": "1f269c20-cbd0-460e-b295-2752a726af83"
   },
   "outputs": [
    {
     "data": {
      "text/html": [
       "<div>\n",
       "<style scoped>\n",
       "    .dataframe tbody tr th:only-of-type {\n",
       "        vertical-align: middle;\n",
       "    }\n",
       "\n",
       "    .dataframe tbody tr th {\n",
       "        vertical-align: top;\n",
       "    }\n",
       "\n",
       "    .dataframe thead th {\n",
       "        text-align: right;\n",
       "    }\n",
       "</style>\n",
       "<table border=\"1\" class=\"dataframe\">\n",
       "  <thead>\n",
       "    <tr style=\"text-align: right;\">\n",
       "      <th></th>\n",
       "      <th>url</th>\n",
       "      <th>reviews</th>\n",
       "      <th>movie_id</th>\n",
       "      <th>Title</th>\n",
       "      <th>Year</th>\n",
       "      <th>Rated</th>\n",
       "      <th>Released</th>\n",
       "      <th>Runtime</th>\n",
       "      <th>Genre</th>\n",
       "      <th>Director</th>\n",
       "      <th>Writer</th>\n",
       "      <th>Actors</th>\n",
       "      <th>Plot</th>\n",
       "      <th>Language</th>\n",
       "      <th>Country</th>\n",
       "      <th>Awards</th>\n",
       "      <th>Poster</th>\n",
       "      <th>Ratings</th>\n",
       "      <th>Metascore</th>\n",
       "      <th>label</th>\n",
       "      <th>imdbVotes</th>\n",
       "      <th>imdbID</th>\n",
       "      <th>Type</th>\n",
       "      <th>DVD</th>\n",
       "      <th>BoxOffice</th>\n",
       "      <th>Production</th>\n",
       "      <th>Website</th>\n",
       "      <th>Response</th>\n",
       "      <th>totalSeasons</th>\n",
       "      <th>Season</th>\n",
       "      <th>Episode</th>\n",
       "      <th>seriesID</th>\n",
       "    </tr>\n",
       "  </thead>\n",
       "  <tbody>\n",
       "    <tr>\n",
       "      <th>0</th>\n",
       "      <td>http://www.imdb.com/title/tt0018515/reviews</td>\n",
       "      <td></td>\n",
       "      <td>tt0018515</td>\n",
       "      <td>Two Arabian Knights</td>\n",
       "      <td>1927</td>\n",
       "      <td>TV-G</td>\n",
       "      <td>23 Sep 1927</td>\n",
       "      <td>92 min</td>\n",
       "      <td>Comedy, Romance, Adventure</td>\n",
       "      <td>Lewis Milestone</td>\n",
       "      <td>Wallace Smith (screen version), Cyril Gardner ...</td>\n",
       "      <td>William Boyd, Mary Astor, Louis Wolheim, Ian K...</td>\n",
       "      <td>Americans Sgt. Peter O'Gaffney and one of his ...</td>\n",
       "      <td>English</td>\n",
       "      <td>USA</td>\n",
       "      <td>N/A</td>\n",
       "      <td>https://m.media-amazon.com/images/M/MV5BNTJiNG...</td>\n",
       "      <td>[{'Source': 'Internet Movie Database', 'Value'...</td>\n",
       "      <td>N/A</td>\n",
       "      <td>6.9</td>\n",
       "      <td>587</td>\n",
       "      <td>tt0018515</td>\n",
       "      <td>movie</td>\n",
       "      <td>N/A</td>\n",
       "      <td>N/A</td>\n",
       "      <td>Caddo</td>\n",
       "      <td>N/A</td>\n",
       "      <td>True</td>\n",
       "      <td>NaN</td>\n",
       "      <td>NaN</td>\n",
       "      <td>NaN</td>\n",
       "      <td>NaN</td>\n",
       "    </tr>\n",
       "    <tr>\n",
       "      <th>1</th>\n",
       "      <td>http://www.imdb.com/title/tt0118866/reviews</td>\n",
       "      <td></td>\n",
       "      <td>tt0118866</td>\n",
       "      <td>Clockwatchers</td>\n",
       "      <td>1997</td>\n",
       "      <td>PG-13</td>\n",
       "      <td>15 May 1998</td>\n",
       "      <td>96 min</td>\n",
       "      <td>Comedy, Drama</td>\n",
       "      <td>Jill Sprecher</td>\n",
       "      <td>Jill Sprecher, Karen Sprecher</td>\n",
       "      <td>Toni Collette, Parker Posey, Lisa Kudrow, Alan...</td>\n",
       "      <td>Iris can best be described as a wallflower. Sh...</td>\n",
       "      <td>English</td>\n",
       "      <td>UK, USA</td>\n",
       "      <td>2 wins &amp; 1 nomination.</td>\n",
       "      <td>https://m.media-amazon.com/images/M/MV5BYzZlND...</td>\n",
       "      <td>[{'Source': 'Internet Movie Database', 'Value'...</td>\n",
       "      <td>N/A</td>\n",
       "      <td>6.5</td>\n",
       "      <td>4,377</td>\n",
       "      <td>tt0118866</td>\n",
       "      <td>movie</td>\n",
       "      <td>26 Sep 2006</td>\n",
       "      <td>N/A</td>\n",
       "      <td>BMG</td>\n",
       "      <td>N/A</td>\n",
       "      <td>True</td>\n",
       "      <td>NaN</td>\n",
       "      <td>NaN</td>\n",
       "      <td>NaN</td>\n",
       "      <td>NaN</td>\n",
       "    </tr>\n",
       "    <tr>\n",
       "      <th>2</th>\n",
       "      <td>http://www.imdb.com/title/tt0436149/reviews</td>\n",
       "      <td></td>\n",
       "      <td>tt0436149</td>\n",
       "      <td>Buried in the Sand: The Deception of America</td>\n",
       "      <td>2004</td>\n",
       "      <td>N/A</td>\n",
       "      <td>21 Sep 2004</td>\n",
       "      <td>90 min</td>\n",
       "      <td>Documentary, War</td>\n",
       "      <td>David Wald</td>\n",
       "      <td>Rob Cartee</td>\n",
       "      <td>Mark Taylor, Ted Kennedy, Saddam Hussein, Geor...</td>\n",
       "      <td>Conservative political commentator Mark Taylor...</td>\n",
       "      <td>English</td>\n",
       "      <td>USA</td>\n",
       "      <td>N/A</td>\n",
       "      <td>https://m.media-amazon.com/images/M/MV5BMjEyND...</td>\n",
       "      <td>[{'Source': 'Internet Movie Database', 'Value'...</td>\n",
       "      <td>N/A</td>\n",
       "      <td>5.1</td>\n",
       "      <td>56</td>\n",
       "      <td>tt0436149</td>\n",
       "      <td>movie</td>\n",
       "      <td>21 Sep 2004</td>\n",
       "      <td>N/A</td>\n",
       "      <td>N/A</td>\n",
       "      <td>N/A</td>\n",
       "      <td>True</td>\n",
       "      <td>NaN</td>\n",
       "      <td>NaN</td>\n",
       "      <td>NaN</td>\n",
       "      <td>NaN</td>\n",
       "    </tr>\n",
       "    <tr>\n",
       "      <th>3</th>\n",
       "      <td>http://www.imdb.com/title/tt0050652/reviews</td>\n",
       "      <td></td>\n",
       "      <td>tt0050652</td>\n",
       "      <td>The Lonely Man</td>\n",
       "      <td>1957</td>\n",
       "      <td>Approved</td>\n",
       "      <td>21 Jun 1957</td>\n",
       "      <td>88 min</td>\n",
       "      <td>Drama, Western</td>\n",
       "      <td>Henry Levin</td>\n",
       "      <td>Harry Essex, Robert Smith</td>\n",
       "      <td>Jack Palance, Anthony Perkins, Neville Brand, ...</td>\n",
       "      <td>Gunslinger Jacob Wade finds his long-abandoned...</td>\n",
       "      <td>English</td>\n",
       "      <td>USA</td>\n",
       "      <td>N/A</td>\n",
       "      <td>https://m.media-amazon.com/images/M/MV5BZDY3MW...</td>\n",
       "      <td>[{'Source': 'Internet Movie Database', 'Value'...</td>\n",
       "      <td>N/A</td>\n",
       "      <td>6.5</td>\n",
       "      <td>564</td>\n",
       "      <td>tt0050652</td>\n",
       "      <td>movie</td>\n",
       "      <td>22 Apr 2003</td>\n",
       "      <td>N/A</td>\n",
       "      <td>Paramount Pictures</td>\n",
       "      <td>N/A</td>\n",
       "      <td>True</td>\n",
       "      <td>NaN</td>\n",
       "      <td>NaN</td>\n",
       "      <td>NaN</td>\n",
       "      <td>NaN</td>\n",
       "    </tr>\n",
       "    <tr>\n",
       "      <th>4</th>\n",
       "      <td>http://www.imdb.com/title/tt0203895/reviews</td>\n",
       "      <td></td>\n",
       "      <td>tt0203895</td>\n",
       "      <td>Sea Prince and the Fire Child</td>\n",
       "      <td>1981</td>\n",
       "      <td>N/A</td>\n",
       "      <td>18 Jul 1981</td>\n",
       "      <td>108 min</td>\n",
       "      <td>Animation, Drama, Family, Fantasy, Romance</td>\n",
       "      <td>Masami Hata</td>\n",
       "      <td>Shintarô Tsuji (story), Masami Hata, Chiho Kat...</td>\n",
       "      <td>Tôru Furuya, Mami Koyama, Keiko Han, Michiko N...</td>\n",
       "      <td>Years after the war between the Children of Wa...</td>\n",
       "      <td>Japanese</td>\n",
       "      <td>Japan</td>\n",
       "      <td>N/A</td>\n",
       "      <td>https://m.media-amazon.com/images/M/MV5BZGJmND...</td>\n",
       "      <td>[{'Source': 'Internet Movie Database', 'Value'...</td>\n",
       "      <td>N/A</td>\n",
       "      <td>7.2</td>\n",
       "      <td>371</td>\n",
       "      <td>tt0203895</td>\n",
       "      <td>movie</td>\n",
       "      <td>N/A</td>\n",
       "      <td>N/A</td>\n",
       "      <td>N/A</td>\n",
       "      <td>N/A</td>\n",
       "      <td>True</td>\n",
       "      <td>NaN</td>\n",
       "      <td>NaN</td>\n",
       "      <td>NaN</td>\n",
       "      <td>NaN</td>\n",
       "    </tr>\n",
       "  </tbody>\n",
       "</table>\n",
       "</div>"
      ],
      "text/plain": [
       "                                           url reviews  ... Episode seriesID\n",
       "0  http://www.imdb.com/title/tt0018515/reviews          ...     NaN      NaN\n",
       "1  http://www.imdb.com/title/tt0118866/reviews          ...     NaN      NaN\n",
       "2  http://www.imdb.com/title/tt0436149/reviews          ...     NaN      NaN\n",
       "3  http://www.imdb.com/title/tt0050652/reviews          ...     NaN      NaN\n",
       "4  http://www.imdb.com/title/tt0203895/reviews          ...     NaN      NaN\n",
       "\n",
       "[5 rows x 32 columns]"
      ]
     },
     "execution_count": 15,
     "metadata": {
      "tags": []
     },
     "output_type": "execute_result"
    }
   ],
   "source": [
    "df.head()"
   ]
  },
  {
   "cell_type": "code",
   "execution_count": 0,
   "metadata": {
    "colab": {},
    "colab_type": "code",
    "id": "Jz4aOrikFhrE"
   },
   "outputs": [],
   "source": []
  },
  {
   "cell_type": "code",
   "execution_count": 0,
   "metadata": {
    "colab": {},
    "colab_type": "code",
    "id": "9fM-aq_q1bIu"
   },
   "outputs": [],
   "source": [
    "#Retrieve reviews\n",
    "for idx in range(len(df)):\n",
    "    reviews = ''\n",
    "    \n",
    "    response = requests.get(df.loc[idx, 'url'])\n",
    "    soup = BeautifulSoup(response.text, 'lxml')\n",
    "    results = soup.find_all('div', class_='text show-more__control')\n",
    "    \n",
    "    for result in results:\n",
    "        reviews = reviews + result.text + ' ' \n",
    "        #result.find('div', class_='text show-more__control').text.strip()\n",
    "    \n",
    "    df.loc[idx, ['reviews']] = reviews\n",
    "    #break"
   ]
  },
  {
   "cell_type": "code",
   "execution_count": 0,
   "metadata": {
    "colab": {},
    "colab_type": "code",
    "id": "nkTc3JMANrTQ"
   },
   "outputs": [],
   "source": []
  },
  {
   "cell_type": "code",
   "execution_count": 0,
   "metadata": {
    "colab": {},
    "colab_type": "code",
    "id": "v-WE7wG2NrmM"
   },
   "outputs": [],
   "source": [
    "#Take off\n",
    "df = df[df['reviews'] != '']"
   ]
  },
  {
   "cell_type": "code",
   "execution_count": 0,
   "metadata": {
    "colab": {},
    "colab_type": "code",
    "id": "oPv1NmVg1bIy"
   },
   "outputs": [],
   "source": [
    "df.head()"
   ]
  },
  {
   "cell_type": "code",
   "execution_count": 0,
   "metadata": {
    "colab": {},
    "colab_type": "code",
    "id": "rJ4K9HCt1bI2"
   },
   "outputs": [],
   "source": []
  },
  {
   "cell_type": "code",
   "execution_count": 0,
   "metadata": {
    "colab": {},
    "colab_type": "code",
    "id": "SPVW1XER7bIX"
   },
   "outputs": [],
   "source": [
    "!apt-get install openjdk-8-jdk-headless -qq > /dev/null\n",
    "import os\n",
    "os.environ[\"JAVA_HOME\"] = \"/usr/lib/jvm/java-8-openjdk-amd64\"\n",
    "!update-alternatives --set java /usr/lib/jvm/java-8-openjdk-amd64/jre/bin/java\n",
    "\n",
    "!pip install pyspark\n",
    "from pyspark.sql import SparkSession\n",
    "spark = SparkSession \\\n",
    "    .builder \\\n",
    "    .getOrCreate()"
   ]
  },
  {
   "cell_type": "code",
   "execution_count": 0,
   "metadata": {
    "colab": {},
    "colab_type": "code",
    "id": "pb_afKpE7bMs"
   },
   "outputs": [],
   "source": [
    "reviews_df = spark.createDataFrame(df)\n",
    "reviews_df.show()"
   ]
  },
  {
   "cell_type": "code",
   "execution_count": 0,
   "metadata": {
    "colab": {},
    "colab_type": "code",
    "id": "-XXZnhXP9ukm"
   },
   "outputs": [],
   "source": [
    "from pyspark.sql.functions import length\n",
    "# Create a length column to be used as a future feature \n",
    "data_df = reviews_df.withColumn('length', length(reviews_df['reviews']))\n",
    "data_df.show()"
   ]
  },
  {
   "cell_type": "code",
   "execution_count": 0,
   "metadata": {
    "colab": {},
    "colab_type": "code",
    "id": "n6Lj19ZS9uny"
   },
   "outputs": [],
   "source": [
    "from pyspark.ml.feature import Tokenizer, StopWordsRemover, HashingTF, IDF, StringIndexer\n",
    "# Create all the features to the data set\n",
    "#pos_neg_to_num = StringIndexer(inputCol='class',outputCol='label')\n",
    "tokenizer = Tokenizer(inputCol=\"reviews\", outputCol=\"token_text\")\n",
    "stopremove = StopWordsRemover(inputCol='token_text',outputCol='stop_tokens')\n",
    "hashingTF = HashingTF(inputCol=\"stop_tokens\", outputCol='hash_token')\n",
    "idf = IDF(inputCol='hash_token', outputCol='idf_token')"
   ]
  },
  {
   "cell_type": "code",
   "execution_count": 0,
   "metadata": {
    "colab": {},
    "colab_type": "code",
    "id": "eQ6XLjkM9urx"
   },
   "outputs": [],
   "source": [
    "\n",
    "from pyspark.ml.feature import VectorAssembler\n",
    "from pyspark.ml.linalg import Vector\n",
    "\n",
    "# Create feature vectors\n",
    "#clean_up = VectorAssembler(inputCols=['idf_token', 'length'], outputCol='features')\n",
    "clean_up = VectorAssembler(inputCols=['idf_token'], outputCol='features')"
   ]
  },
  {
   "cell_type": "code",
   "execution_count": 0,
   "metadata": {
    "colab": {},
    "colab_type": "code",
    "id": "ZZx9Ky2o9uy0"
   },
   "outputs": [],
   "source": [
    "\n",
    "# Create a and run a data processing Pipeline\n",
    "from pyspark.ml import Pipeline\n",
    "data_prep_pipeline = Pipeline(stages=[tokenizer, stopremove, hashingTF, idf, clean_up])"
   ]
  },
  {
   "cell_type": "code",
   "execution_count": 0,
   "metadata": {
    "colab": {},
    "colab_type": "code",
    "id": "dCQieBi79_DC"
   },
   "outputs": [],
   "source": [
    "# Fit and transform the pipeline\n",
    "cleaner = data_prep_pipeline.fit(data_df)\n",
    "cleaned = cleaner.transform(data_df)"
   ]
  },
  {
   "cell_type": "code",
   "execution_count": 0,
   "metadata": {
    "colab": {},
    "colab_type": "code",
    "id": "7tkqbc469_GG"
   },
   "outputs": [],
   "source": [
    "# Show label and resulting features\n",
    "cleaned.select(['label', 'features']).show()"
   ]
  },
  {
   "cell_type": "code",
   "execution_count": 0,
   "metadata": {
    "colab": {},
    "colab_type": "code",
    "id": "qzPHUyvs9_JQ"
   },
   "outputs": [],
   "source": [
    "from pyspark.ml.classification import NaiveBayes\n",
    "# Break data down into a training set and a testing set\n",
    "training, testing = cleaned.randomSplit([0.75, 0.25])\n",
    "\n",
    "# Create a Naive Bayes model and fit training data\n",
    "nb = NaiveBayes()\n",
    "predictor = nb.fit(training)"
   ]
  },
  {
   "cell_type": "code",
   "execution_count": 0,
   "metadata": {
    "colab": {},
    "colab_type": "code",
    "id": "61Q9IeN39_Pv"
   },
   "outputs": [],
   "source": [
    "# Tranform the model with the testing data\n",
    "test_results = predictor.transform(testing)\n",
    "test_results.show(10)"
   ]
  },
  {
   "cell_type": "code",
   "execution_count": 0,
   "metadata": {
    "colab": {},
    "colab_type": "code",
    "id": "quHdLvzd-mcZ"
   },
   "outputs": [],
   "source": [
    "# Use the Class Evaluator for a cleaner description\n",
    "from pyspark.ml.evaluation import MulticlassClassificationEvaluator\n",
    "\n",
    "acc_eval = MulticlassClassificationEvaluator()\n",
    "acc = acc_eval.evaluate(test_results)\n",
    "print(\"Accuracy of model at predicting reviews was: %f\" % acc)"
   ]
  },
  {
   "cell_type": "code",
   "execution_count": 0,
   "metadata": {
    "colab": {},
    "colab_type": "code",
    "id": "VcjNGq8r-mkG"
   },
   "outputs": [],
   "source": []
  }
 ],
 "metadata": {
  "colab": {
   "collapsed_sections": [],
   "name": "retrieve_movie_reviews.ipynb",
   "provenance": []
  },
  "kernelspec": {
   "display_name": "Python 3",
   "language": "python",
   "name": "python3"
  },
  "language_info": {
   "codemirror_mode": {
    "name": "ipython",
    "version": 3
   },
   "file_extension": ".py",
   "mimetype": "text/x-python",
   "name": "python",
   "nbconvert_exporter": "python",
   "pygments_lexer": "ipython3",
   "version": "3.7.3"
  }
 },
 "nbformat": 4,
 "nbformat_minor": 1
}
